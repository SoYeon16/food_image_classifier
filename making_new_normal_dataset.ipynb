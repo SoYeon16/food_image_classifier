{
  "nbformat": 4,
  "nbformat_minor": 0,
  "metadata": {
    "colab": {
      "name": "making_new_normal_dataset.ipynb",
      "provenance": [],
      "collapsed_sections": []
    },
    "kernelspec": {
      "name": "python3",
      "display_name": "Python 3"
    }
  },
  "cells": [
    {
      "cell_type": "code",
      "metadata": {
        "id": "FbO4xw0faAh5",
        "colab_type": "code",
        "outputId": "8c9e8e06-f445-4edf-8978-b3751ddba411",
        "colab": {
          "base_uri": "https://localhost:8080/",
          "height": 126
        }
      },
      "source": [
        "from google.colab import drive\n",
        "\n",
        "drive.mount('/content/gdrive')"
      ],
      "execution_count": 1,
      "outputs": [
        {
          "output_type": "stream",
          "text": [
            "Go to this URL in a browser: https://accounts.google.com/o/oauth2/auth?client_id=947318989803-6bn6qk8qdgf4n4g3pfee6491hc0brc4i.apps.googleusercontent.com&redirect_uri=urn%3aietf%3awg%3aoauth%3a2.0%3aoob&response_type=code&scope=email%20https%3a%2f%2fwww.googleapis.com%2fauth%2fdocs.test%20https%3a%2f%2fwww.googleapis.com%2fauth%2fdrive%20https%3a%2f%2fwww.googleapis.com%2fauth%2fdrive.photos.readonly%20https%3a%2f%2fwww.googleapis.com%2fauth%2fpeopleapi.readonly\n",
            "\n",
            "Enter your authorization code:\n",
            "··········\n",
            "Mounted at /content/gdrive\n"
          ],
          "name": "stdout"
        }
      ]
    },
    {
      "cell_type": "code",
      "metadata": {
        "id": "dM-7JsWwLUCG",
        "colab_type": "code",
        "outputId": "22ad2443-1801-417e-d640-8ebb117b5ba2",
        "colab": {
          "base_uri": "https://localhost:8080/",
          "height": 35
        }
      },
      "source": [
        "cd gdrive/Shared\\ drives/group5/food11-image-dataset_new"
      ],
      "execution_count": 2,
      "outputs": [
        {
          "output_type": "stream",
          "text": [
            "/content/gdrive/Shared drives/group5/food11-image-dataset_new\n"
          ],
          "name": "stdout"
        }
      ]
    },
    {
      "cell_type": "code",
      "metadata": {
        "id": "M6j7iWSTQlmB",
        "colab_type": "code",
        "colab": {}
      },
      "source": [
        "########################################################### TRAIN ############################################################"
      ],
      "execution_count": 0,
      "outputs": []
    },
    {
      "cell_type": "code",
      "metadata": {
        "id": "KhZdF1lRaDJ0",
        "colab_type": "code",
        "colab": {}
      },
      "source": [
        "import os\n",
        "from PIL import Image\n",
        "import numpy as np\n",
        "import pandas as pd\n",
        "from sklearn import datasets, model_selection\n",
        "\n",
        "#https://data-panic.tistory.com/10?category=745430 참조한 코드\n",
        "import torch.nn as nn \n",
        "import torch.nn.functional as F\n",
        "from torch.autograd import Variable\n",
        "from torch.utils.data import Dataset, DataLoader\n",
        "import numpy as np\n",
        "import torchvision \n",
        "import torchvision.transforms as transforms\n",
        "\n",
        "train_path = './training/'\n",
        "val_path = './validation/'\n",
        "test_path = './evaluation/'"
      ],
      "execution_count": 0,
      "outputs": []
    },
    {
      "cell_type": "code",
      "metadata": {
        "id": "OzuGRUJsaF1m",
        "colab_type": "code",
        "outputId": "94c2edf4-6c67-4f1b-9029-1445a890e9de",
        "colab": {
          "base_uri": "https://localhost:8080/",
          "height": 212
        }
      },
      "source": [
        "import random\n",
        "\n",
        "dirs = ['Bread', 'Dairy product', 'Dessert', 'Egg', 'Fried food', 'Meat', 'Noodles-Pasta', 'Rice', 'Seafood', 'Soup', 'Vegetable-Fruit']\n",
        "\n",
        "data = []\n",
        "label = []\n",
        "\n",
        "for i, d in enumerate(dirs):\n",
        "  files = os.listdir(train_path+d)\n",
        "  print(i)\n",
        "  \n",
        "  for f in files:\n",
        "    img = Image.open(train_path + d + '/' + f, 'r')\n",
        "\n",
        "    # 이미지를 64, 64로 일괄 리사이즈 한다.\n",
        "    resize_img = img.resize((64, 64))\n",
        "    #display(resize_img)\n",
        "    \n",
        "    # 이미지를 RGB 컬러로 각각 쪼갠다.\n",
        "    r, g, b = resize_img.split()\n",
        "    # 각 쪼갠 이미지를 255로 나눠서 0~1 사이의 값이 나오도록 정규화 한다.\n",
        "    r_resize_img = np.asarray(np.float32(r) / 255.0)\n",
        "    b_resize_img = np.asarray(np.float32(g) / 255.0)\n",
        "    g_resize_img = np.asarray(np.float32(b) / 255.0)\n",
        "    \n",
        "    rgb_resize_img = np.asarray([r_resize_img, b_resize_img, g_resize_img])\n",
        "    # 이렇게 가공한 이미지를 추가한다. \n",
        "    data.append(rgb_resize_img)\n",
        "    # 라벨 (0~10)\n",
        "    label.append(i)"
      ],
      "execution_count": 0,
      "outputs": [
        {
          "output_type": "stream",
          "text": [
            "0\n",
            "1\n",
            "2\n",
            "3\n",
            "4\n",
            "5\n",
            "6\n",
            "7\n",
            "8\n",
            "9\n",
            "10\n"
          ],
          "name": "stdout"
        }
      ]
    },
    {
      "cell_type": "code",
      "metadata": {
        "id": "QP8olbNQIR0E",
        "colab_type": "code",
        "colab": {}
      },
      "source": [
        "import torch\n",
        "\n",
        "data = np.array(data, dtype='float32')\n",
        "label = np.array(label, dtype='int64')"
      ],
      "execution_count": 0,
      "outputs": []
    },
    {
      "cell_type": "code",
      "metadata": {
        "id": "16lHfZhEImtM",
        "colab_type": "code",
        "colab": {}
      },
      "source": [
        "new_train_X = torch.from_numpy(data).float()\n",
        "new_train_Y = torch.from_numpy(label).long()"
      ],
      "execution_count": 0,
      "outputs": []
    },
    {
      "cell_type": "code",
      "metadata": {
        "id": "nc-d6z4rI4CV",
        "colab_type": "code",
        "outputId": "cd94a67b-090f-4f90-f995-256a971d7a3c",
        "colab": {
          "base_uri": "https://localhost:8080/",
          "height": 35
        }
      },
      "source": [
        "cd .."
      ],
      "execution_count": 3,
      "outputs": [
        {
          "output_type": "stream",
          "text": [
            "/content/gdrive/Shared drives/group5\n"
          ],
          "name": "stdout"
        }
      ]
    },
    {
      "cell_type": "code",
      "metadata": {
        "id": "ZHBSjma6IolL",
        "colab_type": "code",
        "colab": {}
      },
      "source": [
        "# np 파일 저장\n",
        "\n",
        "np.savez('./numpy/new_train_X', new_train_X)\n",
        "np.savez('./numpy/new_train_Y', new_train_Y)"
      ],
      "execution_count": 0,
      "outputs": []
    },
    {
      "cell_type": "code",
      "metadata": {
        "id": "saOc_OfbJtyA",
        "colab_type": "code",
        "colab": {}
      },
      "source": [
        "############################################# VAL ########################################################"
      ],
      "execution_count": 0,
      "outputs": []
    },
    {
      "cell_type": "code",
      "metadata": {
        "id": "frCoTv5aQcOJ",
        "colab_type": "code",
        "outputId": "683d8c68-8a46-4f18-9776-4c62d16a0155",
        "colab": {
          "base_uri": "https://localhost:8080/",
          "height": 212
        }
      },
      "source": [
        "import random\n",
        "\n",
        "dirs = ['Bread', 'Dairy product', 'Dessert', 'Egg', 'Fried food', 'Meat', 'Noodles-Pasta', 'Rice', 'Seafood', 'Soup', 'Vegetable-Fruit']\n",
        "\n",
        "data = []\n",
        "label = []\n",
        "\n",
        "for i, d in enumerate(dirs):\n",
        "  files = os.listdir(val_path+d)\n",
        "  print(i)\n",
        "  \n",
        "  for f in files:\n",
        "    img = Image.open(val_path + d + '/' + f, 'r')\n",
        "\n",
        "    # 이미지를 64, 64로 일괄 리사이즈 한다.\n",
        "    resize_img = img.resize((64, 64))\n",
        "    #display(resize_img)\n",
        "    \n",
        "    # 이미지를 RGB 컬러로 각각 쪼갠다.\n",
        "    r, g, b = resize_img.split()\n",
        "    # 각 쪼갠 이미지를 255로 나눠서 0~1 사이의 값이 나오도록 정규화 한다.\n",
        "    r_resize_img = np.asarray(np.float32(r) / 255.0)\n",
        "    b_resize_img = np.asarray(np.float32(g) / 255.0)\n",
        "    g_resize_img = np.asarray(np.float32(b) / 255.0)\n",
        "    \n",
        "    rgb_resize_img = np.asarray([r_resize_img, b_resize_img, g_resize_img])\n",
        "    # 이렇게 가공한 이미지를 추가한다. \n",
        "    data.append(rgb_resize_img)\n",
        "    # 라벨 (0~10)\n",
        "    label.append(i)"
      ],
      "execution_count": 0,
      "outputs": [
        {
          "output_type": "stream",
          "text": [
            "0\n",
            "1\n",
            "2\n",
            "3\n",
            "4\n",
            "5\n",
            "6\n",
            "7\n",
            "8\n",
            "9\n",
            "10\n"
          ],
          "name": "stdout"
        }
      ]
    },
    {
      "cell_type": "code",
      "metadata": {
        "id": "dF50cFYWTqnT",
        "colab_type": "code",
        "colab": {}
      },
      "source": [
        "data = np.array(data, dtype='float32')\n",
        "label = np.array(label, dtype='int64')"
      ],
      "execution_count": 0,
      "outputs": []
    },
    {
      "cell_type": "code",
      "metadata": {
        "id": "d_rbRKj9Tz3q",
        "colab_type": "code",
        "colab": {}
      },
      "source": [
        "new_val_X = torch.from_numpy(data).float()\n",
        "new_val_Y = torch.from_numpy(label).long()"
      ],
      "execution_count": 0,
      "outputs": []
    },
    {
      "cell_type": "code",
      "metadata": {
        "id": "NjvxyMcNT5zp",
        "colab_type": "code",
        "colab": {
          "base_uri": "https://localhost:8080/",
          "height": 35
        },
        "outputId": "08ee9f34-ed92-4279-b534-6542ba9e2b7a"
      },
      "source": [
        "cd .."
      ],
      "execution_count": 5,
      "outputs": [
        {
          "output_type": "stream",
          "text": [
            "/content/gdrive/Shared drives/group5\n"
          ],
          "name": "stdout"
        }
      ]
    },
    {
      "cell_type": "code",
      "metadata": {
        "id": "Rqk2Eee1UB-L",
        "colab_type": "code",
        "colab": {}
      },
      "source": [
        "# np 파일 저장\n",
        "\n",
        "np.savez('./numpy/new_val_X', new_val_X)\n",
        "np.savez('./numpy/new_val_Y', new_val_Y)"
      ],
      "execution_count": 0,
      "outputs": []
    },
    {
      "cell_type": "code",
      "metadata": {
        "id": "BlDj8D92ULw2",
        "colab_type": "code",
        "colab": {}
      },
      "source": [
        "##################################################### TEST #################################################################"
      ],
      "execution_count": 0,
      "outputs": []
    },
    {
      "cell_type": "code",
      "metadata": {
        "id": "lkkQcJEwUeZc",
        "colab_type": "code",
        "outputId": "20c26d99-a889-402f-f4e0-efcc1f45b054",
        "colab": {
          "base_uri": "https://localhost:8080/",
          "height": 35
        }
      },
      "source": [
        "cd food11-image-dataset_new"
      ],
      "execution_count": 6,
      "outputs": [
        {
          "output_type": "stream",
          "text": [
            "/content/gdrive/Shared drives/group5/food11-image-dataset_new\n"
          ],
          "name": "stdout"
        }
      ]
    },
    {
      "cell_type": "code",
      "metadata": {
        "id": "CVfJpFelUWGL",
        "colab_type": "code",
        "outputId": "8db5044c-1741-414b-cd4e-abd7447af14b",
        "colab": {
          "base_uri": "https://localhost:8080/",
          "height": 212
        }
      },
      "source": [
        "import random\n",
        "\n",
        "dirs = ['Bread', 'Dairy product', 'Dessert', 'Egg', 'Fried food', 'Meat', 'Noodles-Pasta', 'Rice', 'Seafood', 'Soup', 'Vegetable-Fruit']\n",
        "\n",
        "data = []\n",
        "label = []\n",
        "\n",
        "for i, d in enumerate(dirs):\n",
        "  files = os.listdir(test_path+d)\n",
        "  print(i)\n",
        "  \n",
        "  for f in files:\n",
        "    img = Image.open(test_path + d + '/' + f, 'r')\n",
        "\n",
        "    # 이미지를 64, 64로 일괄 리사이즈 한다.\n",
        "    resize_img = img.resize((64, 64))\n",
        "    #display(resize_img)\n",
        "    \n",
        "    # 이미지를 RGB 컬러로 각각 쪼갠다.\n",
        "    r, g, b = resize_img.split()\n",
        "    # 각 쪼갠 이미지를 255로 나눠서 0~1 사이의 값이 나오도록 정규화 한다.\n",
        "    r_resize_img = np.asarray(np.float32(r) / 255.0)\n",
        "    b_resize_img = np.asarray(np.float32(g) / 255.0)\n",
        "    g_resize_img = np.asarray(np.float32(b) / 255.0)\n",
        "    \n",
        "    rgb_resize_img = np.asarray([r_resize_img, b_resize_img, g_resize_img])\n",
        "    # 이렇게 가공한 이미지를 추가한다. \n",
        "    data.append(rgb_resize_img)\n",
        "    # 라벨 (0~10)\n",
        "    label.append(i)"
      ],
      "execution_count": 0,
      "outputs": [
        {
          "output_type": "stream",
          "text": [
            "0\n",
            "1\n",
            "2\n",
            "3\n",
            "4\n",
            "5\n",
            "6\n",
            "7\n",
            "8\n",
            "9\n",
            "10\n"
          ],
          "name": "stdout"
        }
      ]
    },
    {
      "cell_type": "code",
      "metadata": {
        "id": "aJqiFkEoWT-a",
        "colab_type": "code",
        "colab": {}
      },
      "source": [
        "data = np.array(data, dtype='float32')\n",
        "label = np.array(label, dtype='int64')"
      ],
      "execution_count": 0,
      "outputs": []
    },
    {
      "cell_type": "code",
      "metadata": {
        "id": "aKwF-gi3Wb-o",
        "colab_type": "code",
        "colab": {}
      },
      "source": [
        "new_test_X = torch.from_numpy(data).float()\n",
        "new_test_Y = torch.from_numpy(label).long()"
      ],
      "execution_count": 0,
      "outputs": []
    },
    {
      "cell_type": "code",
      "metadata": {
        "id": "_3ZUoNpSWklA",
        "colab_type": "code",
        "outputId": "66e4004b-f946-4abd-d067-2198076b980a",
        "colab": {
          "base_uri": "https://localhost:8080/",
          "height": 35
        }
      },
      "source": [
        "cd .."
      ],
      "execution_count": 0,
      "outputs": [
        {
          "output_type": "stream",
          "text": [
            "/content/gdrive/Shared drives/group5\n"
          ],
          "name": "stdout"
        }
      ]
    },
    {
      "cell_type": "code",
      "metadata": {
        "id": "3jdVMOmJWniM",
        "colab_type": "code",
        "colab": {}
      },
      "source": [
        "# np 파일 저장\n",
        "\n",
        "np.savez('./numpy/new_test_X', new_test_X)\n",
        "np.savez('./numpy/new_test_Y', new_test_Y)"
      ],
      "execution_count": 0,
      "outputs": []
    },
    {
      "cell_type": "code",
      "metadata": {
        "id": "qC6_QoedWuA-",
        "colab_type": "code",
        "colab": {}
      },
      "source": [
        "############################################### END ########################################################"
      ],
      "execution_count": 0,
      "outputs": []
    }
  ]
}