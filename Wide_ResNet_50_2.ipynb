{
  "nbformat": 4,
  "nbformat_minor": 0,
  "metadata": {
    "colab": {
      "name": "Wide_ResNet_50_2.ipynb",
      "provenance": [],
      "collapsed_sections": []
    },
    "kernelspec": {
      "name": "python3",
      "display_name": "Python 3"
    },
    "accelerator": "GPU"
  },
  "cells": [
    {
      "cell_type": "code",
      "metadata": {
        "id": "W_h5R54k8qVw",
        "colab_type": "code",
        "outputId": "e94dd3cd-e7f1-4c99-9ae3-3afb63cc7288",
        "colab": {
          "base_uri": "https://localhost:8080/",
          "height": 35
        }
      },
      "source": [
        "from google.colab import drive\n",
        "drive.mount('/content/gdrive')"
      ],
      "execution_count": 1,
      "outputs": [
        {
          "output_type": "stream",
          "text": [
            "Drive already mounted at /content/gdrive; to attempt to forcibly remount, call drive.mount(\"/content/gdrive\", force_remount=True).\n"
          ],
          "name": "stdout"
        }
      ]
    },
    {
      "cell_type": "code",
      "metadata": {
        "id": "Rsw0Ha3D9ene",
        "colab_type": "code",
        "outputId": "00f220b8-c916-46fa-9748-193c0e83aa89",
        "colab": {
          "base_uri": "https://localhost:8080/",
          "height": 35
        }
      },
      "source": [
        "cd gdrive/Shared drives/group5/numpy"
      ],
      "execution_count": 2,
      "outputs": [
        {
          "output_type": "stream",
          "text": [
            "/content/gdrive/Shared drives/group5/numpy\n"
          ],
          "name": "stdout"
        }
      ]
    },
    {
      "cell_type": "code",
      "metadata": {
        "id": "IRp6CaDy9jXd",
        "colab_type": "code",
        "colab": {}
      },
      "source": [
        "import numpy as np\n",
        "import torch\n",
        "import torch.nn as nn\n",
        "import torch.nn.functional as F\n",
        "import torch.optim as optim\n",
        "import torch.utils.data as data_utils\n",
        "from torch.utils.data import DataLoader, TensorDataset\n",
        "from torchvision import datasets, transforms\n",
        "import torchvision.models as models\n",
        "import matplotlib.pyplot as plt"
      ],
      "execution_count": 0,
      "outputs": []
    },
    {
      "cell_type": "code",
      "metadata": {
        "id": "8NrjXKaUYc3s",
        "colab_type": "code",
        "outputId": "e4d1270a-9b2d-48ce-e383-5645ea7c98d6",
        "colab": {
          "base_uri": "https://localhost:8080/",
          "height": 52
        }
      },
      "source": [
        "with np.load('./new_total_train_X.npz') as data:\n",
        "    X_train_np = data['arr_0']\n",
        "\n",
        "with np.load('./new_total_train_Y.npz') as data:\n",
        "    Y_train_np = data['arr_0']\n",
        "\n",
        "\n",
        "X_train = torch.from_numpy(X_train_np).float()\n",
        "Y_train = torch.as_tensor(Y_train_np).long()\n",
        "\n",
        "print(X_train.shape)\n",
        "print(Y_train.shape)\n",
        "\n",
        "train = TensorDataset(X_train, Y_train)\n",
        "train_loader = DataLoader(train, batch_size=64, shuffle=True)"
      ],
      "execution_count": 4,
      "outputs": [
        {
          "output_type": "stream",
          "text": [
            "torch.Size([16500, 3, 64, 64])\n",
            "torch.Size([16500])\n"
          ],
          "name": "stdout"
        }
      ]
    },
    {
      "cell_type": "code",
      "metadata": {
        "id": "NS0gpIUf9qXZ",
        "colab_type": "code",
        "outputId": "8a49e684-dc4b-4d45-ef4c-cffdd47e2c76",
        "colab": {
          "base_uri": "https://localhost:8080/",
          "height": 52
        }
      },
      "source": [
        "with np.load('./new_val_X.npz') as data:\n",
        "    X_val = data['arr_0']\n",
        "\n",
        "with np.load('./new_val_Y.npz') as data:\n",
        "    Y_val = data['arr_0']\n",
        "\n",
        "\n",
        "X_val = torch.as_tensor(X_val).float()\n",
        "Y_val = torch.as_tensor(Y_val).long()\n",
        "\n",
        "print(X_val.shape)\n",
        "print(Y_val.shape)\n",
        "\n",
        "val = TensorDataset(X_val, Y_val)\n",
        "val_loader = DataLoader(val, batch_size=64, shuffle=True)"
      ],
      "execution_count": 5,
      "outputs": [
        {
          "output_type": "stream",
          "text": [
            "torch.Size([1650, 3, 64, 64])\n",
            "torch.Size([1650])\n"
          ],
          "name": "stdout"
        }
      ]
    },
    {
      "cell_type": "code",
      "metadata": {
        "id": "0pFDVv8U9sli",
        "colab_type": "code",
        "outputId": "87df941d-a27f-4f85-e945-84767d034dac",
        "colab": {
          "base_uri": "https://localhost:8080/",
          "height": 52
        }
      },
      "source": [
        "with np.load('./new_test_X.npz') as data:\n",
        "    X_test = data['arr_0']\n",
        "\n",
        "with np.load('./new_test_Y.npz') as data:\n",
        "    Y_test = data['arr_0']\n",
        "\n",
        "X_test = torch.as_tensor(X_test).float()\n",
        "Y_test = torch.as_tensor(Y_test).long()\n",
        "\n",
        "print(X_test.shape)\n",
        "print(Y_test.shape)\n",
        "\n",
        "test = TensorDataset(X_test, Y_test)\n",
        "test_loader = DataLoader(test, batch_size=64, shuffle=True)\n"
      ],
      "execution_count": 6,
      "outputs": [
        {
          "output_type": "stream",
          "text": [
            "torch.Size([1644, 3, 64, 64])\n",
            "torch.Size([1644])\n"
          ],
          "name": "stdout"
        }
      ]
    },
    {
      "cell_type": "code",
      "metadata": {
        "id": "HMnmy3Bb93B6",
        "colab_type": "code",
        "colab": {}
      },
      "source": [
        "#gpu할당.\n",
        "device = torch.device('cuda:0' if torch.cuda.is_available() else 'cpu')"
      ],
      "execution_count": 0,
      "outputs": []
    },
    {
      "cell_type": "code",
      "metadata": {
        "id": "xB3NZH_b_BK1",
        "colab_type": "code",
        "outputId": "1d0b64d9-b8c9-4eef-de17-6489364a4318",
        "colab": {
          "base_uri": "https://localhost:8080/",
          "height": 70
        }
      },
      "source": [
        "#mini batch size\n",
        "print(len(train_loader))\n",
        "print(len(val_loader))\n",
        "print(len(test_loader))"
      ],
      "execution_count": 8,
      "outputs": [
        {
          "output_type": "stream",
          "text": [
            "258\n",
            "26\n",
            "26\n"
          ],
          "name": "stdout"
        }
      ]
    },
    {
      "cell_type": "code",
      "metadata": {
        "id": "CwDcZK3TZYef",
        "colab_type": "code",
        "colab": {}
      },
      "source": [
        "# model is wide_resnet50_2 #\n",
        "num_classes= 11\n",
        "net= models.wide_resnet50_2(pretrained= True).cuda()\n",
        "net.fc=nn.Linear(2048,num_classes,bias=True)\n",
        "net= net.cuda()"
      ],
      "execution_count": 0,
      "outputs": []
    },
    {
      "cell_type": "code",
      "metadata": {
        "id": "2chSSNLB1s7O",
        "colab_type": "code",
        "colab": {}
      },
      "source": [
        "# hyperparameter zone #\n",
        "criterion = nn.CrossEntropyLoss()\n",
        "learning_rate = 1e-3 #1e-3이 loss 가장 높은 accuracy 69%, 1e-5가 가장 낮은 accuracy 23%\n",
        "momentum = 0.5\n",
        "weight_decay=1e-4    #1e-4일 때 69%, 1e-5일 때 68%,  0일 때 68%. \n",
        "optimizer = optim.SGD(net.parameters(), lr=learning_rate, \n",
        "                      weight_decay=weight_decay,\n",
        "                      momentum=momentum, nesterov=True)"
      ],
      "execution_count": 0,
      "outputs": []
    },
    {
      "cell_type": "code",
      "metadata": {
        "id": "e-XN1CTJcqT6",
        "colab_type": "code",
        "outputId": "7b5c8582-77cd-4085-da50-1eaf74ffef8c",
        "colab": {
          "base_uri": "https://localhost:8080/",
          "height": 106
        }
      },
      "source": [
        "#train test\n",
        "train_loss_list = []\n",
        "\n",
        "for epoch in range(5):\n",
        "    train_loss = 0.0\n",
        "    for i, data in enumerate(train_loader,0):\n",
        "      X_train, Y_train = data\n",
        "      X_train, Y_train = X_train.cuda(), Y_train.cuda()\n",
        "         \n",
        "      # grad init\n",
        "      optimizer.zero_grad()\n",
        "      # forward propagation\n",
        "      model_output = net(X_train)\n",
        "      # calculate loss\n",
        "      loss = criterion(model_output, Y_train)\n",
        "      #l2 regularization\n",
        "      reg_lambda = 0.001\n",
        "      l2_reg = 0.\n",
        "      for param in net.parameters():\n",
        "        l2_reg += param.norm(2)  \n",
        "      loss = loss + reg_lambda * l2_reg             \n",
        "      # back propagation \n",
        "      loss.backward()\n",
        "      # weight update\n",
        "      optimizer.step()\n",
        "        \n",
        "      # tainn_loss summary\n",
        "      train_loss += loss.item()\n",
        "      # del (memory issue)\n",
        "      del loss\n",
        "      del model_output\n",
        "\n",
        "    # print loss, val_loss\n",
        "    j = len(train_loader)\n",
        "    print('[%d] loss: %.5f' %(epoch+1, train_loss/(j+1)))\n",
        "    train_loss_list.append(train_loss/(j+1))"
      ],
      "execution_count": 12,
      "outputs": [
        {
          "output_type": "stream",
          "text": [
            "[1] loss: 2.32805\n",
            "[2] loss: 1.89593\n",
            "[3] loss: 1.60755\n",
            "[4] loss: 1.38774\n",
            "[5] loss: 1.22904\n"
          ],
          "name": "stdout"
        }
      ]
    },
    {
      "cell_type": "code",
      "metadata": {
        "id": "VmkJapWUc2gn",
        "colab_type": "code",
        "outputId": "473df11f-d0ab-4817-b8c6-6bd4d70336c1",
        "colab": {
          "base_uri": "https://localhost:8080/",
          "height": 35
        }
      },
      "source": [
        "#validation test\n",
        "val_loss_list = []\n",
        "\n",
        "with torch.no_grad(): \n",
        "  val_loss = 0.0\n",
        "  for i, val in enumerate(val_loader,0):\n",
        "    X_val, Y_val = val\n",
        "    X_val, Y_val = X_val.to(device), Y_val.to(device)\n",
        "    val_output = net(X_val)\n",
        "    v_loss = criterion(val_output, Y_val)\n",
        "    #l2 regularization\n",
        "    reg_lambda = 0.001\n",
        "    l2_reg = 0.\n",
        "    for param in net.parameters():\n",
        "      l2_reg += param.norm(2)  \n",
        "    v_loss = v_loss + reg_lambda * l2_reg         \n",
        "    val_loss += v_loss  \n",
        "    del v_loss\n",
        "    del val_output\n",
        "      \n",
        "i = len(val_loader)\n",
        "print('validation loss: %.5f' %(val_loss /(i+1)))   \n",
        "\n",
        "a = val_loss /(i+1)\n",
        "for i in range(5):\n",
        "  val_loss_list.append(a)"
      ],
      "execution_count": 20,
      "outputs": [
        {
          "output_type": "stream",
          "text": [
            "validation loss: 1.93640\n"
          ],
          "name": "stdout"
        }
      ]
    },
    {
      "cell_type": "code",
      "metadata": {
        "id": "Xx-FRLCwuyDt",
        "colab_type": "code",
        "colab": {}
      },
      "source": [
        "#accuracy\n",
        "classes = ('Bread', 'Dairy product', 'Dessert', 'Egg', 'Fried food', 'Meat', 'Noodles-Pasta', 'Rice', 'Seafood', 'Soup', 'Vegetable-Fruit')\n",
        "\n",
        "A = np.zeros((11,11))\n",
        "\n",
        "class_correct = list(0. for i in range(11))\n",
        "class_total = list(0. for i in range(11))\n",
        "\n",
        "X_test, Y_test = X_test.to(device), Y_test.to(device)\n",
        "\n",
        "with torch.no_grad():\n",
        "    for k, test in enumerate(test_loader,0):\n",
        "      X_test, Y_test = test\n",
        "      X_test, Y_test = X_test.to(device), Y_test.to(device) \n",
        "      outputs = net(X_test)\n",
        "      _, predicted = torch.max(outputs, 1) # prediction\n",
        "      c = (predicted == Y_test).squeeze()\n",
        "      for i in range(len(predicted)):\n",
        "        A[predicted[i]][Y_test[i]] += 1"
      ],
      "execution_count": 0,
      "outputs": []
    },
    {
      "cell_type": "code",
      "metadata": {
        "id": "qBTY-LvHvBP8",
        "colab_type": "code",
        "outputId": "a04be79d-1162-4574-a28e-64844730adb5",
        "colab": {
          "base_uri": "https://localhost:8080/",
          "height": 230
        }
      },
      "source": [
        "total = np.zeros((11))\n",
        "correct = np.zeros((11))\n",
        "correct_total = 0\n",
        "\n",
        "prob_class = np.zeros((11,11))\n",
        "\n",
        "for i in range(11):\n",
        "  for j in range(11):\n",
        "   total[j] += A[i][j]\n",
        "   class_total += total[j]\n",
        "\n",
        "for i in range(11):\n",
        "  correct[i] += A[i][i]\n",
        "  correct_total += correct[i]\n",
        "\n",
        "for i in range(11):\n",
        "  for j in range(11):\n",
        "    prob_class[i][j] = A[i][j] / total[j]\n",
        "\n",
        "for i in range(11):\n",
        "  print('Accuracy of %5s : %2d %%' % (classes[i], 100 * correct[i] / total[i]))\n",
        "\n",
        "print('Total Accuracy: %2d %%' % (correct_total*100 / 1644))"
      ],
      "execution_count": 24,
      "outputs": [
        {
          "output_type": "stream",
          "text": [
            "Accuracy of Bread : 33 %\n",
            "Accuracy of Dairy product : 59 %\n",
            "Accuracy of Dessert : 34 %\n",
            "Accuracy of   Egg : 74 %\n",
            "Accuracy of Fried food : 70 %\n",
            "Accuracy of  Meat : 65 %\n",
            "Accuracy of Noodles-Pasta : 78 %\n",
            "Accuracy of  Rice : 85 %\n",
            "Accuracy of Seafood : 69 %\n",
            "Accuracy of  Soup : 81 %\n",
            "Accuracy of Vegetable-Fruit : 81 %\n",
            "Total Accuracy: 66 %\n"
          ],
          "name": "stdout"
        }
      ]
    },
    {
      "cell_type": "code",
      "metadata": {
        "id": "fD1E58GhvCWw",
        "colab_type": "code",
        "outputId": "5ae476eb-f5d1-4a6f-b9b5-d7c093a8db3b",
        "colab": {
          "base_uri": "https://localhost:8080/",
          "height": 624
        }
      },
      "source": [
        "import matplotlib.pyplot as plt\n",
        "import seaborn as sns\n",
        "\n",
        "classes = ('Bread', 'Dairy product', 'Dessert', 'Egg', 'Fried food', 'Meat', 'Noodles-Pasta', 'Rice', 'Seafood', 'Soup', 'Vegetable-Fruit')\n",
        "\n",
        "plt.figure(figsize = (10,8))\n",
        "sns.heatmap(prob_class, xticklabels=classes, yticklabels=classes, annot=True, cmap='RdYlGn_r', linewidths=.5)\n",
        "plt.title('Wide ResNet-50-2 Result', fontsize=20)\n",
        "plt.xlabel('Real Class', fontsize=14)\n",
        "plt.ylabel('Predicted Class', fontsize=14)\n",
        "\n",
        "plt.show()"
      ],
      "execution_count": 25,
      "outputs": [
        {
          "output_type": "stream",
          "text": [
            "/usr/local/lib/python3.6/dist-packages/statsmodels/tools/_testing.py:19: FutureWarning: pandas.util.testing is deprecated. Use the functions in the public API at pandas.testing instead.\n",
            "  import pandas.util.testing as tm\n"
          ],
          "name": "stderr"
        },
        {
          "output_type": "display_data",
          "data": {
            "image/png": "[encoded data removed]",
            "text/plain": [
              "<Figure size 720x576 with 2 Axes>"
            ]
          },
          "metadata": {
            "tags": [],
            "needs_background": "light"
          }
        }
      ]
    },
    {
      "cell_type": "code",
      "metadata": {
        "id": "WlO8Poxav3Zh",
        "colab_type": "code",
        "colab": {}
      },
      "source": [
        ""
      ],
      "execution_count": 0,
      "outputs": []
    }
  ]
}