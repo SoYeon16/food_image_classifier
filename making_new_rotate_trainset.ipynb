{
  "nbformat": 4,
  "nbformat_minor": 0,
  "metadata": {
    "colab": {
      "name": "making_new_rotate_trainset.ipynb",
      "provenance": [],
      "collapsed_sections": []
    },
    "kernelspec": {
      "name": "python3",
      "display_name": "Python 3"
    }
  },
  "cells": [
    {
      "cell_type": "code",
      "metadata": {
        "id": "FbO4xw0faAh5",
        "colab_type": "code",
        "outputId": "edd8f55f-bd16-45d4-b551-3835b2145e76",
        "colab": {
          "base_uri": "https://localhost:8080/",
          "height": 126
        }
      },
      "source": [
        "from google.colab import drive\n",
        "drive.mount('/content/gdrive')"
      ],
      "execution_count": 1,
      "outputs": [
        {
          "output_type": "stream",
          "text": [
            "Go to this URL in a browser: https://accounts.google.com/o/oauth2/auth?client_id=947318989803-6bn6qk8qdgf4n4g3pfee6491hc0brc4i.apps.googleusercontent.com&redirect_uri=urn%3aietf%3awg%3aoauth%3a2.0%3aoob&response_type=code&scope=email%20https%3a%2f%2fwww.googleapis.com%2fauth%2fdocs.test%20https%3a%2f%2fwww.googleapis.com%2fauth%2fdrive%20https%3a%2f%2fwww.googleapis.com%2fauth%2fdrive.photos.readonly%20https%3a%2f%2fwww.googleapis.com%2fauth%2fpeopleapi.readonly\n",
            "\n",
            "Enter your authorization code:\n",
            "··········\n",
            "Mounted at /content/gdrive\n"
          ],
          "name": "stdout"
        }
      ]
    },
    {
      "cell_type": "code",
      "metadata": {
        "id": "pN_HLprhUjdf",
        "colab_type": "code",
        "colab": {
          "base_uri": "https://localhost:8080/",
          "height": 35
        },
        "outputId": "835ad3b0-1a47-4f93-d63b-456584c3b287"
      },
      "source": [
        "cd gdrive/Shared\\ drives/group5/food11-image-dataset_new"
      ],
      "execution_count": 2,
      "outputs": [
        {
          "output_type": "stream",
          "text": [
            "/content/gdrive/Shared drives/group5/food11-image-dataset_new\n"
          ],
          "name": "stdout"
        }
      ]
    },
    {
      "cell_type": "code",
      "metadata": {
        "id": "KhZdF1lRaDJ0",
        "colab_type": "code",
        "colab": {}
      },
      "source": [
        "import os\n",
        "from PIL import Image\n",
        "import numpy as np\n",
        "import pandas as pd\n",
        "from sklearn import datasets, model_selection\n",
        "\n",
        "import torch.nn as nn \n",
        "import torch.nn.functional as F\n",
        "from torch.autograd import Variable\n",
        "from torch.utils.data import Dataset, DataLoader\n",
        "import numpy as np\n",
        "import torchvision \n",
        "import torchvision.transforms as transforms\n",
        "\n",
        "train_path = './training/'\n",
        "val_path = './validation/'\n",
        "test_path = './evaluation/'"
      ],
      "execution_count": 0,
      "outputs": []
    },
    {
      "cell_type": "code",
      "metadata": {
        "id": "OzuGRUJsaF1m",
        "colab_type": "code",
        "outputId": "8ff99fc5-71fb-4b47-c59c-c4798499def0",
        "colab": {
          "base_uri": "https://localhost:8080/",
          "height": 212
        }
      },
      "source": [
        "import random\n",
        "\n",
        "dirs = ['Bread', 'Dairy product', 'Dessert', 'Egg', 'Fried food', 'Meat', 'Noodles-Pasta', 'Rice', 'Seafood', 'Soup', 'Vegetable-Fruit']\n",
        "\n",
        "data = []\n",
        "label = []\n",
        "\n",
        "for i, d in enumerate(dirs):\n",
        "  files = os.listdir(train_path+d)\n",
        "  print(i)\n",
        "  \n",
        "  for f in files:\n",
        "    img = Image.open(train_path + d + '/' + f, 'r')\n",
        "    img2 = img.resize((128,128))\n",
        "    #display(img2)\n",
        "\n",
        "    # 이미지를 random으로 rotate\n",
        "    rd = random.randint(0,360)\n",
        "    a_img= img2.rotate(rd,expand=True)\n",
        "    #display(a_img)\n",
        "    width, height = a_img.size\n",
        "    low_w = width / 4\n",
        "    low_h = height / 4\n",
        "    top_w = width*3 / 4\n",
        "    top_h = height*3 /4\n",
        "    new_img = a_img.crop((low_w, low_h, top_w, top_h))\n",
        "    #display(new_img) \n",
        "\n",
        "    # 이미지를 64, 64로 일괄 리사이즈 한다.\n",
        "    resize_img = new_img.resize((64, 64))\n",
        "    #display(resize_img)\n",
        "    \n",
        "\n",
        "    # 이미지를 RGB 컬러로 각각 쪼갠다.\n",
        "    # https://pillow.readthedocs.io/en/3.1.x/reference/Image.html#PIL.Image.Image.split 참조\n",
        "    r, g, b = resize_img.split()\n",
        "    # 각 쪼갠 이미지를 255로 나눠서 0~1 사이의 값이 나오도록 정규화 한다.\n",
        "    r_resize_img = np.asarray(np.float32(r) / 255.0)\n",
        "    b_resize_img = np.asarray(np.float32(g) / 255.0)\n",
        "    g_resize_img = np.asarray(np.float32(b) / 255.0)\n",
        "    \n",
        "    rgb_resize_img = np.asarray([r_resize_img, b_resize_img, g_resize_img])\n",
        "    # 이렇게 가공한 이미지를 추가한다. \n",
        "    data.append(rgb_resize_img)\n",
        "    # 라벨 (0~10)\n",
        "    label.append(i)"
      ],
      "execution_count": 0,
      "outputs": [
        {
          "output_type": "stream",
          "text": [
            "0\n",
            "1\n",
            "2\n",
            "3\n",
            "4\n",
            "5\n",
            "6\n",
            "7\n",
            "8\n",
            "9\n",
            "10\n"
          ],
          "name": "stdout"
        }
      ]
    },
    {
      "cell_type": "code",
      "metadata": {
        "id": "QP8olbNQIR0E",
        "colab_type": "code",
        "colab": {}
      },
      "source": [
        "import torch\n",
        "\n",
        "data = np.array(data, dtype='float32')\n",
        "label = np.array(label, dtype='int64')"
      ],
      "execution_count": 0,
      "outputs": []
    },
    {
      "cell_type": "code",
      "metadata": {
        "id": "16lHfZhEImtM",
        "colab_type": "code",
        "colab": {}
      },
      "source": [
        "rotate_train_X = torch.from_numpy(data).float()\n",
        "rotate_train_Y = torch.from_numpy(label).long()"
      ],
      "execution_count": 0,
      "outputs": []
    },
    {
      "cell_type": "code",
      "metadata": {
        "id": "nc-d6z4rI4CV",
        "colab_type": "code",
        "outputId": "0ed077a0-97e1-46c5-8ae2-ef60dcafdf61",
        "colab": {
          "base_uri": "https://localhost:8080/",
          "height": 35
        }
      },
      "source": [
        "cd .."
      ],
      "execution_count": 4,
      "outputs": [
        {
          "output_type": "stream",
          "text": [
            "/content/gdrive/Shared drives/group5\n"
          ],
          "name": "stdout"
        }
      ]
    },
    {
      "cell_type": "code",
      "metadata": {
        "id": "ZHBSjma6IolL",
        "colab_type": "code",
        "colab": {}
      },
      "source": [
        "# np 저장\n",
        "\n",
        "np.savez('./numpy/new_rotate_train_X', rotate_train_X)\n",
        "np.savez('./numpy/new_rotate_train_Y', rotate_train_Y)"
      ],
      "execution_count": 0,
      "outputs": []
    },
    {
      "cell_type": "code",
      "metadata": {
        "id": "saOc_OfbJtyA",
        "colab_type": "code",
        "colab": {}
      },
      "source": [
        "############################################# END ########################################################"
      ],
      "execution_count": 0,
      "outputs": []
    }
  ]
}