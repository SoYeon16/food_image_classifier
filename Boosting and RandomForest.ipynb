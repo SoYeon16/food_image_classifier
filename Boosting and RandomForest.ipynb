{
  "nbformat": 4,
  "nbformat_minor": 0,
  "metadata": {
    "colab": {
      "name": "gradient_boosting.ipynb",
      "provenance": []
    },
    "kernelspec": {
      "name": "python3",
      "display_name": "Python 3"
    },
    "accelerator": "GPU"
  },
  "cells": [
    {
      "cell_type": "code",
      "metadata": {
        "id": "UAszdK0ddUpa",
        "colab_type": "code",
        "outputId": "7fed4f3a-e627-4090-c41a-e288285da0c8",
        "colab": {
          "base_uri": "https://localhost:8080/",
          "height": 126
        }
      },
      "source": [
        "from google.colab import drive\n",
        "drive.mount('/content/gdrive')"
      ],
      "execution_count": 1,
      "outputs": [
        {
          "output_type": "stream",
          "text": [
            "Go to this URL in a browser: https://accounts.google.com/o/oauth2/auth?client_id=947318989803-6bn6qk8qdgf4n4g3pfee6491hc0brc4i.apps.googleusercontent.com&redirect_uri=urn%3aietf%3awg%3aoauth%3a2.0%3aoob&response_type=code&scope=email%20https%3a%2f%2fwww.googleapis.com%2fauth%2fdocs.test%20https%3a%2f%2fwww.googleapis.com%2fauth%2fdrive%20https%3a%2f%2fwww.googleapis.com%2fauth%2fdrive.photos.readonly%20https%3a%2f%2fwww.googleapis.com%2fauth%2fpeopleapi.readonly\n",
            "\n",
            "Enter your authorization code:\n",
            "··········\n",
            "Mounted at /content/gdrive\n"
          ],
          "name": "stdout"
        }
      ]
    },
    {
      "cell_type": "code",
      "metadata": {
        "id": "naTn0FBqdbMy",
        "colab_type": "code",
        "outputId": "1ea043e9-ba82-428d-db1a-df20119f3eaf",
        "colab": {
          "base_uri": "https://localhost:8080/",
          "height": 35
        }
      },
      "source": [
        "cd gdrive/Shared drives/group5/numpy"
      ],
      "execution_count": 2,
      "outputs": [
        {
          "output_type": "stream",
          "text": [
            "/content/gdrive/Shared drives/group5/numpy\n"
          ],
          "name": "stdout"
        }
      ]
    },
    {
      "cell_type": "code",
      "metadata": {
        "id": "WKUAMwYtduQg",
        "colab_type": "code",
        "colab": {}
      },
      "source": [
        "import numpy as np\n",
        "import torch\n",
        "from torch.utils.data import DataLoader, TensorDataset"
      ],
      "execution_count": 0,
      "outputs": []
    },
    {
      "cell_type": "code",
      "metadata": {
        "id": "v7T-g0cbdniG",
        "colab_type": "code",
        "colab": {}
      },
      "source": [
        "# Load Train Data\n",
        "\n",
        "with np.load('./new_total_train_X.npz') as data:\n",
        "    X_train = data['arr_0']\n",
        "\n",
        "with np.load('./new_total_train_Y.npz') as data:\n",
        "    Y_train = data['arr_0']\n",
        "    \n",
        "X_train = torch.from_numpy(X_train).float()\n",
        "Y_train = torch.from_numpy(Y_train).long()\n",
        "\n",
        "train = TensorDataset(X_train, Y_train)\n",
        "train_loader = DataLoader(train, batch_size=32, shuffle=True)"
      ],
      "execution_count": 0,
      "outputs": []
    },
    {
      "cell_type": "code",
      "metadata": {
        "id": "WYAC4xxadssC",
        "colab_type": "code",
        "colab": {}
      },
      "source": [
        "# Load Test Data\n",
        "\n",
        "with np.load('./new_test_X.npz') as data:\n",
        "    X_test = data['arr_0']\n",
        "\n",
        "with np.load('./new_test_Y.npz') as data:\n",
        "    Y_test = data['arr_0']\n",
        "\n",
        "X_test = torch.from_numpy(X_test).float()\n",
        "Y_test = torch.from_numpy(Y_test).long()\n",
        "\n",
        "test = TensorDataset(X_test, Y_test)\n",
        "test_loader = DataLoader(test, batch_size=64, shuffle=True)"
      ],
      "execution_count": 0,
      "outputs": []
    },
    {
      "cell_type": "code",
      "metadata": {
        "id": "csej9Nitd9UH",
        "colab_type": "code",
        "colab": {}
      },
      "source": [
        "X_train = X_train.reshape(16500, 3*64*64)"
      ],
      "execution_count": 0,
      "outputs": []
    },
    {
      "cell_type": "code",
      "metadata": {
        "id": "5vFvJWy8eWTN",
        "colab_type": "code",
        "colab": {}
      },
      "source": [
        "X_test = X_test.reshape(1644, 3*64*64)"
      ],
      "execution_count": 0,
      "outputs": []
    },
    {
      "cell_type": "code",
      "metadata": {
        "id": "IPcfWFkWfOFt",
        "colab_type": "code",
        "colab": {}
      },
      "source": [
        "############################# Gradient Boosting ###################################"
      ],
      "execution_count": 0,
      "outputs": []
    },
    {
      "cell_type": "code",
      "metadata": {
        "id": "mZJBOvYCiKAm",
        "colab_type": "code",
        "colab": {}
      },
      "source": [
        "from sklearn.datasets import load_breast_cancer\n",
        "from sklearn.ensemble import GradientBoostingClassifier\n",
        "from sklearn.model_selection import train_test_split\n",
        "import matplotlib.pyplot as plt\n",
        "import numpy as np\n",
        "\n",
        "X_train.to('cuda')\n",
        "Y_train.to('cuda')\n",
        "\n",
        "gbrt = GradientBoostingClassifier(random_state=0)\n",
        "gbrt.fit(X_train,Y_train).to('cuda')\n",
        "\n",
        "print(\"훈련 세트 정확도 : {:.3f}\".format(gbrt.score(X_train,Y_train)))\n",
        "print(\"테스트 세트 정확도 : {:.3f}\".format(gbrt.score(X_test,Y_test)))"
      ],
      "execution_count": 0,
      "outputs": []
    },
    {
      "cell_type": "code",
      "metadata": {
        "id": "1tb9tr2lgmQF",
        "colab_type": "code",
        "colab": {}
      },
      "source": [
        "################################ Random Forest ########################################"
      ],
      "execution_count": 0,
      "outputs": []
    },
    {
      "cell_type": "code",
      "metadata": {
        "id": "DoVSa5CsgnsD",
        "colab_type": "code",
        "colab": {}
      },
      "source": [
        "from sklearn.ensemble import RandomForestClassifier\n",
        "\n",
        "rnd_clf = RandomForestClassifier(n_estimators=5000, max_leaf_nodes=512, n_jobs=-1)\n",
        "rnd_clf.fit(X_train, Y_train)\n",
        "\n",
        "y_pred_rf = rnd_clf.predict(X_test)"
      ],
      "execution_count": 0,
      "outputs": []
    },
    {
      "cell_type": "code",
      "metadata": {
        "id": "KhpJnluhh2ot",
        "colab_type": "code",
        "outputId": "49f079e3-d731-427e-dd37-20d0a9df658e",
        "colab": {
          "base_uri": "https://localhost:8080/",
          "height": 230
        }
      },
      "source": [
        "classes = ('Bread', 'Dairy product', 'Dessert', 'Egg', 'Fried food', 'Meat', 'Noodles-Pasta', 'Rice', 'Seafood', 'Soup', 'Vegetable-Fruit')\n",
        "\n",
        "A = np.zeros((11,11))\n",
        "\n",
        "for i in range(len(y_pred_rf)):\n",
        "  A[y_pred_rf[i]][Y_test[i]] += 1\n",
        "  \n",
        "\n",
        "total = np.zeros((11))\n",
        "correct = np.zeros((11))\n",
        "correct_total = 0\n",
        "\n",
        "prob_class = np.zeros((11,11))\n",
        "\n",
        "for i in range(11):\n",
        "  for j in range(11):\n",
        "   total[j] += A[i][j]\n",
        "\n",
        "for i in range(11):\n",
        "  correct[i] += A[i][i]\n",
        "  correct_total += correct[i]\n",
        "\n",
        "for i in range(11):\n",
        "  for j in range(11):\n",
        "    prob_class[i][j] = A[i][j] / total[j]\n",
        "\n",
        "for i in range(11):\n",
        "  print('Accuracy of %5s : %2d %%' % (classes[i], 100 * correct[i] / total[i]))\n",
        "\n",
        "print('Total Accuracy: %2d %%' % (correct_total*100 / 1644))"
      ],
      "execution_count": 0,
      "outputs": [
        {
          "output_type": "stream",
          "text": [
            "Accuracy of Bread : 14 %\n",
            "Accuracy of Dairy product : 33 %\n",
            "Accuracy of Dessert : 21 %\n",
            "Accuracy of   Egg : 14 %\n",
            "Accuracy of Fried food : 35 %\n",
            "Accuracy of  Meat : 63 %\n",
            "Accuracy of Noodles-Pasta : 46 %\n",
            "Accuracy of  Rice : 45 %\n",
            "Accuracy of Seafood : 29 %\n",
            "Accuracy of  Soup : 32 %\n",
            "Accuracy of Vegetable-Fruit : 42 %\n",
            "Total Accuracy: 34 %\n"
          ],
          "name": "stdout"
        }
      ]
    },
    {
      "cell_type": "code",
      "metadata": {
        "id": "AcAbx12CkHIt",
        "colab_type": "code",
        "colab": {}
      },
      "source": [
        "####################################### END ##############################################"
      ],
      "execution_count": 0,
      "outputs": []
    }
  ]
}